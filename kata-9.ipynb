{
 "cells": [
  {
   "cell_type": "markdown",
   "metadata": {},
   "source": [
    "# Kata 9"
   ]
  },
  {
   "cell_type": "code",
   "execution_count": 9,
   "metadata": {},
   "outputs": [
    {
     "name": "stdout",
     "output_type": "stream",
     "text": [
      "Tanque 1: 70\n",
      "Tanque 2: 80\n",
      "Tanque 3: 90\n",
      "Promedio de combustible: 80.0\n"
     ]
    }
   ],
   "source": [
    "def informe(tanque1,tanque2,tanque3):\n",
    "    return f\"\"\"Tanque 1: {tanque1}\\nTanque 2: {tanque2}\\nTanque 3: {tanque3}\\nPromedio de combustible: {promedio([tanque1,tanque2,tanque3])}\"\"\"\n",
    "\n",
    "\n",
    "\n",
    "\n",
    "def promedio(args):\n",
    "    total= sum(args)\n",
    "    numero_tanques= len(args)\n",
    "    return total/ numero_tanques\n",
    "\n",
    "\n",
    "\n",
    "\n",
    "print(informe(70,80,90))"
   ]
  },
  {
   "cell_type": "markdown",
   "metadata": {},
   "source": [
    "# Ejercicio 2\n"
   ]
  },
  {
   "cell_type": "code",
   "execution_count": null,
   "metadata": {},
   "outputs": [],
   "source": [
    "def informe_preciso(prelanzamiento, tiempo_de_vuelo, destino, tanque_externo, tanque_interno):\n",
    "    return f\"\"\"Total de tiempo en vuelo: {prelanzamiento + tiempo_de_vuelo}\\nDestino: {destino}\\nTanque total: {tanque_externo + tanque_interno}\"\"\"\n",
    "\n",
    "\n",
    "\n",
    "\n"
   ]
  },
  {
   "cell_type": "code",
   "execution_count": 25,
   "metadata": {},
   "outputs": [
    {
     "name": "stdout",
     "output_type": "stream",
     "text": [
      "Destino: Luna\n",
      "Tiempo total:74\n",
      "Combustible 500000El tanque Principal contiene: 300000\n",
      "El tanque Externo contiene: 200000\n",
      "\n"
     ]
    }
   ],
   "source": [
    "def inf (destino, *tiempo , **combustible):\n",
    "     reporte = f\"\"\"Destino: {destino}\\nTiempo total:{sum(tiempo)}\\nCombustible {sum(combustible.values())}\"\"\"\n",
    "     for tanque, cantidad in combustible.items():\n",
    "        reporte += f\"\"\"El tanque {tanque} contiene: {cantidad}\\n\"\"\"\n",
    "     return reporte \n",
    "print( inf (\"Luna\", 8, 11, 55, Principal=300000, Externo=200000))"
   ]
  }
 ],
 "metadata": {
  "interpreter": {
   "hash": "409e9466594ad2b05b3243a56daf0c2959e53ee512aeeca6e2f0ff8002f26f46"
  },
  "kernelspec": {
   "display_name": "Python 3.10.2 64-bit",
   "language": "python",
   "name": "python3"
  },
  "language_info": {
   "codemirror_mode": {
    "name": "ipython",
    "version": 3
   },
   "file_extension": ".py",
   "mimetype": "text/x-python",
   "name": "python",
   "nbconvert_exporter": "python",
   "pygments_lexer": "ipython3",
   "version": "3.10.2"
  },
  "orig_nbformat": 4
 },
 "nbformat": 4,
 "nbformat_minor": 2
}
